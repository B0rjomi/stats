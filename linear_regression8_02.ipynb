{
  "nbformat": 4,
  "nbformat_minor": 0,
  "metadata": {
    "colab": {
      "provenance": []
    },
    "kernelspec": {
      "name": "python3",
      "display_name": "Python 3"
    },
    "language_info": {
      "name": "python"
    }
  },
  "cells": [
    {
      "cell_type": "markdown",
      "source": [
        "# Задание 1\n",
        "В таблице * есть результаты замеров ширины и длины листовой пластины одного из видов орхидей. По результатам 20 замеров постройте уравнение линейной регрессионной зависимости длины листовой пластины от ширины.\n",
        "\n",
        "Проверить значимость уравнения регрессии и отдельных коэффициентов."
      ],
      "metadata": {
        "id": "D4UcSsclxxb3"
      }
    },
    {
      "cell_type": "code",
      "execution_count": 25,
      "metadata": {
        "id": "p3k-xBBzxVIc"
      },
      "outputs": [],
      "source": [
        "import numpy as np\n",
        "import scipy.stats as st\n",
        "import matplotlib.pyplot as plt\n",
        "import openpyxl\n",
        "import math"
      ]
    },
    {
      "cell_type": "code",
      "source": [
        "wb = openpyxl.load_workbook(filename = '/content/drive/MyDrive/8_02.xlsx')\n",
        "sheets = wb.sheetnames\n",
        "sheet = wb[sheets[0]]"
      ],
      "metadata": {
        "id": "dn9e81iDzMBu"
      },
      "execution_count": 11,
      "outputs": []
    },
    {
      "cell_type": "code",
      "source": [
        "x = [i[0].value for i in sheet['A1':'A20']]\n",
        "y = [i[0].value for i in sheet['B1':'B20']]"
      ],
      "metadata": {
        "id": "-u8jxS752J5u"
      },
      "execution_count": 12,
      "outputs": []
    },
    {
      "cell_type": "code",
      "source": [
        "plt.figure(figsize=(10,6))\n",
        "plt.scatter(x,y)\n",
        "plt.show()"
      ],
      "metadata": {
        "colab": {
          "base_uri": "https://localhost:8080/",
          "height": 374
        },
        "id": "oSOFULqv3jsp",
        "outputId": "e703e45f-acc6-4b76-d0ae-589a3a8e5bf9"
      },
      "execution_count": 13,
      "outputs": [
        {
          "output_type": "display_data",
          "data": {
            "text/plain": [
              "<Figure size 720x432 with 1 Axes>"
            ],
            "image/png": "[encoded data removed]"
          },
          "metadata": {
            "needs_background": "light"
          }
        }
      ]
    },
    {
      "cell_type": "markdown",
      "source": [
        "# 1 \n",
        "\n",
        "Вычислим оценки средних квадратических отклонений и выборочное среднее"
      ],
      "metadata": {
        "id": "TQ1y-_pd3_SF"
      }
    },
    {
      "cell_type": "code",
      "source": [
        "Mx = np.mean(x)\n",
        "My = np.mean(y)\n",
        "sx = np.std(x)\n",
        "sy = np.std(y)\n",
        "print(f\"M(x) = {round(Mx, 3)}, M(y) = {round(My, 3)}, s(x) = {round(sx,3)}, s(y) = {round(sy,3)}\")"
      ],
      "metadata": {
        "colab": {
          "base_uri": "https://localhost:8080/"
        },
        "id": "Kbvn9p524J23",
        "outputId": "0280ce86-a187-4cd1-8b8d-27a184d39a1c"
      },
      "execution_count": 15,
      "outputs": [
        {
          "output_type": "stream",
          "name": "stdout",
          "text": [
            "M(x) = 3.66, M(y) = 5.485, s(x) = 0.777, s(y) = 1.208\n"
          ]
        }
      ]
    },
    {
      "cell_type": "markdown",
      "source": [
        "# 2\n",
        "Считаем выборочный коэффициент корреляции"
      ],
      "metadata": {
        "id": "y3-3v_stAL4V"
      }
    },
    {
      "cell_type": "code",
      "source": [
        "r = st.pearsonr(x,y)[0]\n",
        "print(f\"Выборочный коэффициент корреляции = {r}\")"
      ],
      "metadata": {
        "colab": {
          "base_uri": "https://localhost:8080/"
        },
        "id": "vX5nB4EFARZ7",
        "outputId": "f044dbbe-e264-4f1e-ae6a-6ee4375a61dc"
      },
      "execution_count": 18,
      "outputs": [
        {
          "output_type": "stream",
          "name": "stdout",
          "text": [
            "Выборочный коэффициент корреляции = 0.9880305557372465\n"
          ]
        }
      ]
    },
    {
      "cell_type": "markdown",
      "source": [
        "#3\n",
        "Вычисляем коэффициенты регрессии"
      ],
      "metadata": {
        "id": "y7szxipEBSMZ"
      }
    },
    {
      "cell_type": "code",
      "source": [
        "a = r*sy/sx\n",
        "b = My - r*sy*Mx/sx\n",
        "print(f\"Коэффициенты: {a}, {b}\")\n",
        "print(f\"Уравнение линейной регрессии примает следующий вид: y = {round(a,3)}x + {round(b,3)}\")"
      ],
      "metadata": {
        "colab": {
          "base_uri": "https://localhost:8080/"
        },
        "id": "QYd3rSYVBW42",
        "outputId": "2ba25c8c-c8b5-4db2-db00-e58658628904"
      },
      "execution_count": 23,
      "outputs": [
        {
          "output_type": "stream",
          "name": "stdout",
          "text": [
            "Коэффициенты: 1.5352415618795496, -0.13398411647915154\n",
            "Уравнение линейной регрессии примает следующий вид: y = 1.535x + -0.134\n"
          ]
        }
      ]
    },
    {
      "cell_type": "code",
      "source": [
        "plt.scatter(x,y)\n",
        "[x1,y1] = [[min(x), max(x)], [a*min(x)+b, a*max(x)+b]]\n",
        "plt.plot(x1,y1)\n",
        "plt.show()"
      ],
      "metadata": {
        "colab": {
          "base_uri": "https://localhost:8080/",
          "height": 265
        },
        "id": "hzckwiZ8DA46",
        "outputId": "8a79b93c-673d-4a6e-9f4a-b045839dc013"
      },
      "execution_count": 24,
      "outputs": [
        {
          "output_type": "display_data",
          "data": {
            "text/plain": [
              "<Figure size 432x288 with 1 Axes>"
            ],
            "image/png": "[encoded data removed]"
          },
          "metadata": {
            "needs_background": "light"
          }
        }
      ]
    },
    {
      "cell_type": "markdown",
      "source": [
        "#4\n",
        "Найдем ошибку регрессии, стандартные отклонения а"
      ],
      "metadata": {
        "id": "SB3KlFQQM71K"
      }
    },
    {
      "cell_type": "code",
      "source": [
        "sum = 0\n",
        "for i in range(20):\n",
        "  sum += (y[i] - x[i]*a - b)**2\n",
        "regression_error = math.sqrt(sum/18) # ошибка регрессии\n",
        "deviation_a = regression_error/(sx*math.sqrt(20)) # считаем стандартное отклонение а\n",
        "quad_mean = 0\n",
        "for i in range(20):\n",
        "  quad_mean += x[i]**2 \n",
        "quad_mean = quad_mean / 20\n",
        "deviation_b = (quad_mean * regression_error) / (sx*math.sqrt(20)) #считаем стандартное отклонение b\n",
        "print(f\"Стандартное отклонение а = {deviation_a}, стандартное отклонение b = {deviation_b}\")\n",
        "T_stat_a = a/deviation_a\n",
        "T_stat_b = b/deviation_b\n",
        "print(f\"Т-статистика а = {T_stat_a}, Т-статистика b = {T_stat_b}\")"
      ],
      "metadata": {
        "colab": {
          "base_uri": "https://localhost:8080/"
        },
        "id": "EuVHvzjWEL2Q",
        "outputId": "0b0778e8-8db6-4e6b-9a36-a35d7aa9fc48"
      },
      "execution_count": 33,
      "outputs": [
        {
          "output_type": "stream",
          "name": "stdout",
          "text": [
            "Стандартное отклонение а = 0.05649611857201984, стандартное отклонение b = 0.7909456600082777\n",
            "Т-статистика а = 27.174283839029794, Т-статистика b = -0.16939737235267124\n"
          ]
        }
      ]
    },
    {
      "cell_type": "markdown",
      "source": [
        "#4\n",
        "Проверим значимость отдельных коэффициентов"
      ],
      "metadata": {
        "id": "EkiSr1NFM5TA"
      }
    },
    {
      "cell_type": "code",
      "source": [
        "T_crit = 2.101 #посчитал в экселе с помощью СТЬЮДЕНТ.ОБР.2Х(0,05;18)\n",
        "\n",
        "if T_stat_a < T_crit:\n",
        "  print(f\"Коэффициент a = {round(T_stat_a,3)} незначим\")\n",
        "elif T_stat_b < T_crit:\n",
        "  print(f\"Коэффициент b = {round(T_stat_b,3)} незначим\")\n",
        "else:\n",
        "  print(\"Оба коэффициента значимы\")\n"
      ],
      "metadata": {
        "colab": {
          "base_uri": "https://localhost:8080/"
        },
        "id": "px2T2VYtNTPX",
        "outputId": "6360cc9a-9eed-4539-cd75-eb77c86534af"
      },
      "execution_count": 37,
      "outputs": [
        {
          "output_type": "stream",
          "name": "stdout",
          "text": [
            "Коэффициент b = -0.169 незначим\n"
          ]
        }
      ]
    }
  ]
}